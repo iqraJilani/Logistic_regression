{
 "cells": [
  {
   "cell_type": "code",
   "execution_count": null,
   "id": "ab29e3b7",
   "metadata": {},
   "outputs": [],
   "source": [
    "from dataloader import Preprocessing\n",
    "from model import BuildModel"
   ]
  },
  {
   "cell_type": "code",
   "execution_count": null,
   "id": "afa4f444",
   "metadata": {},
   "outputs": [],
   "source": [
    "X = Preprocessing.preprocess(X, treat_null= True, treat_skew=True, feat_pre = \"standardization\")\n",
    "X_train, X_test, y_train,  y_test = Preprocessing.split_data(X, y, method=\"percentage\"\n",
    "\n"
   ]
  },
  {
   "cell_type": "code",
   "execution_count": null,
   "id": "7fb34cdf",
   "metadata": {},
   "outputs": [],
   "source": [
    "model_obj = BuildModel(X, y)\n",
    "activations, pred_y = model_obj.predict(X, y)\n",
    "\n"
   ]
  }
 ],
 "metadata": {
  "kernelspec": {
   "display_name": "Python 3 (ipykernel)",
   "language": "python",
   "name": "python3"
  },
  "language_info": {
   "codemirror_mode": {
    "name": "ipython",
    "version": 3
   },
   "file_extension": ".py",
   "mimetype": "text/x-python",
   "name": "python",
   "nbconvert_exporter": "python",
   "pygments_lexer": "ipython3",
   "version": "3.7.13"
  }
 },
 "nbformat": 4,
 "nbformat_minor": 5
}
